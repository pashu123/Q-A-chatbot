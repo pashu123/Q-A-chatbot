{
  "nbformat": 4,
  "nbformat_minor": 0,
  "metadata": {
    "colab": {
      "name": "TrainingRnn.ipynb",
      "version": "0.3.2",
      "provenance": []
    },
    "kernelspec": {
      "name": "python3",
      "display_name": "Python 3"
    },
    "accelerator": "GPU"
  },
  "cells": [
    {
      "cell_type": "code",
      "metadata": {
        "id": "pZGWQRHFoV8l",
        "colab_type": "code",
        "colab": {
          "base_uri": "https://localhost:8080/",
          "height": 126
        },
        "outputId": "bc408a2b-bfff-46b0-a401-2fe4533fde69"
      },
      "source": [
        "!git clone https://github.com/pashu123/Q-A-chatbot"
      ],
      "execution_count": 1,
      "outputs": [
        {
          "output_type": "stream",
          "text": [
            "Cloning into 'Q-A-chatbot'...\n",
            "remote: Enumerating objects: 11, done.\u001b[K\n",
            "remote: Counting objects:   9% (1/11)   \u001b[K\rremote: Counting objects:  18% (2/11)   \u001b[K\rremote: Counting objects:  27% (3/11)   \u001b[K\rremote: Counting objects:  36% (4/11)   \u001b[K\rremote: Counting objects:  45% (5/11)   \u001b[K\rremote: Counting objects:  54% (6/11)   \u001b[K\rremote: Counting objects:  63% (7/11)   \u001b[K\rremote: Counting objects:  72% (8/11)   \u001b[K\rremote: Counting objects:  81% (9/11)   \u001b[K\rremote: Counting objects:  90% (10/11)   \u001b[K\rremote: Counting objects: 100% (11/11)   \u001b[K\rremote: Counting objects: 100% (11/11), done.\u001b[K\n",
            "remote: Compressing objects:   9% (1/11)   \u001b[K\rremote: Compressing objects:  18% (2/11)   \u001b[K\rremote: Compressing objects:  27% (3/11)   \u001b[K\rremote: Compressing objects:  36% (4/11)   \u001b[K\rremote: Compressing objects:  45% (5/11)   \u001b[K\rremote: Compressing objects:  54% (6/11)   \u001b[K\rremote: Compressing objects:  63% (7/11)   \u001b[K\rremote: Compressing objects:  72% (8/11)   \u001b[K\rremote: Compressing objects:  81% (9/11)   \u001b[K\rremote: Compressing objects:  90% (10/11)   \u001b[K\rremote: Compressing objects: 100% (11/11)   \u001b[K\rremote: Compressing objects: 100% (11/11), done.\u001b[K\n",
            "Unpacking objects:   9% (1/11)   \rUnpacking objects:  18% (2/11)   \rUnpacking objects:  27% (3/11)   \rUnpacking objects:  36% (4/11)   \rUnpacking objects:  45% (5/11)   \rUnpacking objects:  54% (6/11)   \rremote: Total 11 (delta 2), reused 4 (delta 0), pack-reused 0\u001b[K\n",
            "Unpacking objects:  63% (7/11)   \rUnpacking objects:  72% (8/11)   \rUnpacking objects:  81% (9/11)   \rUnpacking objects:  90% (10/11)   \rUnpacking objects: 100% (11/11)   \rUnpacking objects: 100% (11/11), done.\n"
          ],
          "name": "stdout"
        }
      ]
    },
    {
      "cell_type": "code",
      "metadata": {
        "id": "sGFpK-e8WNdD",
        "colab_type": "code",
        "colab": {
          "base_uri": "https://localhost:8080/",
          "height": 35
        },
        "outputId": "555b0199-361e-4f60-da69-f24d70f2d027"
      },
      "source": [
        "ls"
      ],
      "execution_count": 2,
      "outputs": [
        {
          "output_type": "stream",
          "text": [
            "\u001b[0m\u001b[01;34mQ-A-chatbot\u001b[0m/  \u001b[01;34msample_data\u001b[0m/\n"
          ],
          "name": "stdout"
        }
      ]
    },
    {
      "cell_type": "code",
      "metadata": {
        "id": "PjL3VUlqWQ_7",
        "colab_type": "code",
        "colab": {
          "base_uri": "https://localhost:8080/",
          "height": 35
        },
        "outputId": "0a2adb4c-63d2-4eeb-a5d6-4747c4a9c1e2"
      },
      "source": [
        "cd Q-A-chatbot/"
      ],
      "execution_count": 3,
      "outputs": [
        {
          "output_type": "stream",
          "text": [
            "/content/Q-A-chatbot\n"
          ],
          "name": "stdout"
        }
      ]
    },
    {
      "cell_type": "code",
      "metadata": {
        "id": "ZXADBWbLWSh_",
        "colab_type": "code",
        "colab": {
          "base_uri": "https://localhost:8080/",
          "height": 35
        },
        "outputId": "47783613-b6ba-4623-b9a6-62800f32f21a"
      },
      "source": [
        "ls"
      ],
      "execution_count": 4,
      "outputs": [
        {
          "output_type": "stream",
          "text": [
            "README.md  test_qa.txt  train_qa.txt\n"
          ],
          "name": "stdout"
        }
      ]
    },
    {
      "cell_type": "code",
      "metadata": {
        "id": "RZKhXCtWWTHK",
        "colab_type": "code",
        "colab": {}
      },
      "source": [
        "import pickle\n",
        "import numpy as np"
      ],
      "execution_count": 0,
      "outputs": []
    },
    {
      "cell_type": "code",
      "metadata": {
        "id": "EwaMWbbwWVVO",
        "colab_type": "code",
        "colab": {}
      },
      "source": [
        "with open('train_qa.txt','rb') as f:\n",
        "  train_data = pickle.load(f)"
      ],
      "execution_count": 0,
      "outputs": []
    },
    {
      "cell_type": "code",
      "metadata": {
        "id": "zWsZrXZ4WeXm",
        "colab_type": "code",
        "colab": {}
      },
      "source": [
        "with open('test_qa.txt','rb') as f:\n",
        "  test_data = pickle.load(f)"
      ],
      "execution_count": 0,
      "outputs": []
    },
    {
      "cell_type": "code",
      "metadata": {
        "id": "Ew60WX2IWiNz",
        "colab_type": "code",
        "colab": {}
      },
      "source": [
        "all_data = test_data + train_data"
      ],
      "execution_count": 0,
      "outputs": []
    },
    {
      "cell_type": "code",
      "metadata": {
        "id": "jgPoC-qaWjlZ",
        "colab_type": "code",
        "colab": {
          "base_uri": "https://localhost:8080/",
          "height": 35
        },
        "outputId": "21da3a95-8ab7-405e-a913-cc629f5e418a"
      },
      "source": [
        "len(all_data)"
      ],
      "execution_count": 19,
      "outputs": [
        {
          "output_type": "execute_result",
          "data": {
            "text/plain": [
              "11000"
            ]
          },
          "metadata": {
            "tags": []
          },
          "execution_count": 19
        }
      ]
    },
    {
      "cell_type": "code",
      "metadata": {
        "id": "1ORwzOgrXMx1",
        "colab_type": "code",
        "colab": {}
      },
      "source": [
        "vocab = set()\n",
        "for story,question,answer in all_data:\n",
        "  vocab = vocab.union(set(story))\n",
        "  vocab = vocab.union(set(question))"
      ],
      "execution_count": 0,
      "outputs": []
    },
    {
      "cell_type": "code",
      "metadata": {
        "id": "pn1Xme7wYkxw",
        "colab_type": "code",
        "colab": {}
      },
      "source": [
        "vocab.add('no')\n",
        "vocab.add('yes')"
      ],
      "execution_count": 0,
      "outputs": []
    },
    {
      "cell_type": "code",
      "metadata": {
        "id": "7XWKQgS6YrHB",
        "colab_type": "code",
        "colab": {
          "base_uri": "https://localhost:8080/",
          "height": 35
        },
        "outputId": "3f9748e8-eade-42ff-d3b5-e1bb5f3193f2"
      },
      "source": [
        "len(vocab)"
      ],
      "execution_count": 24,
      "outputs": [
        {
          "output_type": "execute_result",
          "data": {
            "text/plain": [
              "37"
            ]
          },
          "metadata": {
            "tags": []
          },
          "execution_count": 24
        }
      ]
    },
    {
      "cell_type": "code",
      "metadata": {
        "id": "PDmayBR4YsEO",
        "colab_type": "code",
        "colab": {}
      },
      "source": [
        "vocab_len = len(vocab)+1"
      ],
      "execution_count": 0,
      "outputs": []
    },
    {
      "cell_type": "code",
      "metadata": {
        "id": "7fWlEv2QY5lL",
        "colab_type": "code",
        "colab": {
          "base_uri": "https://localhost:8080/",
          "height": 35
        },
        "outputId": "2024aa3f-2d6f-4416-b08e-0126702c5284"
      },
      "source": [
        "vocab_len"
      ],
      "execution_count": 26,
      "outputs": [
        {
          "output_type": "execute_result",
          "data": {
            "text/plain": [
              "38"
            ]
          },
          "metadata": {
            "tags": []
          },
          "execution_count": 26
        }
      ]
    },
    {
      "cell_type": "code",
      "metadata": {
        "id": "nVaK5cIuY7Pa",
        "colab_type": "code",
        "colab": {}
      },
      "source": [
        "all_story_lens = [len(data[0]) for data in all_data]"
      ],
      "execution_count": 0,
      "outputs": []
    },
    {
      "cell_type": "code",
      "metadata": {
        "id": "S3dDXBrUZMy_",
        "colab_type": "code",
        "colab": {
          "base_uri": "https://localhost:8080/",
          "height": 35
        },
        "outputId": "8b4909be-afd7-4c21-edd2-3db3666a9ea9"
      },
      "source": [
        "max(all_story_lens)"
      ],
      "execution_count": 28,
      "outputs": [
        {
          "output_type": "execute_result",
          "data": {
            "text/plain": [
              "156"
            ]
          },
          "metadata": {
            "tags": []
          },
          "execution_count": 28
        }
      ]
    },
    {
      "cell_type": "code",
      "metadata": {
        "id": "i3ApoW5AZOoL",
        "colab_type": "code",
        "colab": {}
      },
      "source": [
        "max_story_len = max(all_story_lens)"
      ],
      "execution_count": 0,
      "outputs": []
    },
    {
      "cell_type": "code",
      "metadata": {
        "id": "DY_jvGNaZVcg",
        "colab_type": "code",
        "colab": {}
      },
      "source": [
        "max_question_len = max([len(data[1]) for data in all_data])"
      ],
      "execution_count": 0,
      "outputs": []
    },
    {
      "cell_type": "code",
      "metadata": {
        "id": "7MKwr5MGZivE",
        "colab_type": "code",
        "colab": {
          "base_uri": "https://localhost:8080/",
          "height": 35
        },
        "outputId": "7550fcb6-5783-424a-92de-148ce1060517"
      },
      "source": [
        "max_question_len"
      ],
      "execution_count": 32,
      "outputs": [
        {
          "output_type": "execute_result",
          "data": {
            "text/plain": [
              "6"
            ]
          },
          "metadata": {
            "tags": []
          },
          "execution_count": 32
        }
      ]
    },
    {
      "cell_type": "code",
      "metadata": {
        "id": "QRDS-D31Zs7E",
        "colab_type": "code",
        "colab": {
          "base_uri": "https://localhost:8080/",
          "height": 35
        },
        "outputId": "5daaee68-ce0f-42a7-f201-7a4069881493"
      },
      "source": [
        "from keras.preprocessing.sequence import pad_sequences\n",
        "from keras.preprocessing.text import Tokenizer"
      ],
      "execution_count": 33,
      "outputs": [
        {
          "output_type": "stream",
          "text": [
            "Using TensorFlow backend.\n"
          ],
          "name": "stderr"
        }
      ]
    },
    {
      "cell_type": "code",
      "metadata": {
        "id": "nwPQkMq3aG0D",
        "colab_type": "code",
        "colab": {}
      },
      "source": [
        "tokenizer = Tokenizer(filters = [])\n",
        "tokenizer.fit_on_texts(vocab)"
      ],
      "execution_count": 0,
      "outputs": []
    },
    {
      "cell_type": "code",
      "metadata": {
        "id": "dX0jbal2aOWy",
        "colab_type": "code",
        "colab": {
          "base_uri": "https://localhost:8080/",
          "height": 35
        },
        "outputId": "2b77a8d3-d5ba-463a-f10f-4e9e9f2e7aa6"
      },
      "source": [
        "len(tokenizer.word_index)"
      ],
      "execution_count": 38,
      "outputs": [
        {
          "output_type": "execute_result",
          "data": {
            "text/plain": [
              "37"
            ]
          },
          "metadata": {
            "tags": []
          },
          "execution_count": 38
        }
      ]
    },
    {
      "cell_type": "code",
      "metadata": {
        "id": "e5EyTXdmaVQy",
        "colab_type": "code",
        "colab": {}
      },
      "source": [
        "train_story_text = []\n",
        "train_question_text = []\n",
        "train_answers = []"
      ],
      "execution_count": 0,
      "outputs": []
    },
    {
      "cell_type": "code",
      "metadata": {
        "id": "Fz0Luos3aiOT",
        "colab_type": "code",
        "colab": {}
      },
      "source": [
        "for story,question,answer in train_data:\n",
        "  train_story_text.append(story)\n",
        "  train_question_text.append(question)\n",
        "  train_answers.append(answer)"
      ],
      "execution_count": 0,
      "outputs": []
    },
    {
      "cell_type": "code",
      "metadata": {
        "id": "cyJBWVakax2q",
        "colab_type": "code",
        "colab": {}
      },
      "source": [
        "train_story_seq = tokenizer.texts_to_sequences(train_story_text)"
      ],
      "execution_count": 0,
      "outputs": []
    },
    {
      "cell_type": "code",
      "metadata": {
        "id": "OMztueoFa8gb",
        "colab_type": "code",
        "colab": {}
      },
      "source": [
        "def vectorize_stories(data,word_index = tokenizer.word_index,max_story_len = max_story_len,max_question_len = max_question_len):\n",
        "  #stories\n",
        "  X = []\n",
        "  #question\n",
        "  Xq = []\n",
        "  # Y correct answer\n",
        "  Y = []\n",
        "  for story,query,answer in data:\n",
        "    x = [word_index[word.lower()] for word in story]\n",
        "    xq = [word_index[word.lower()] for word in query]\n",
        "    y = np.zeros(len(word_index)+1)\n",
        "    y[word_index[answer]] = 1\n",
        "    \n",
        "    X.append(x)\n",
        "    Xq.append(xq)\n",
        "    Y.append(y)\n",
        "  return (pad_sequences(X,maxlen = max_story_len),pad_sequences(Xq,maxlen = max_question_len),np.array(Y))"
      ],
      "execution_count": 0,
      "outputs": []
    },
    {
      "cell_type": "code",
      "metadata": {
        "id": "KQX_FFBHd9mm",
        "colab_type": "code",
        "colab": {}
      },
      "source": [
        "inputs_train,queries_train,answers_train = vectorize_stories(train_data)\n",
        "inputs_test,queries_test,answers_test = vectorize_stories(test_data)"
      ],
      "execution_count": 0,
      "outputs": []
    },
    {
      "cell_type": "code",
      "metadata": {
        "id": "OOmjUJVDeKRV",
        "colab_type": "code",
        "colab": {
          "base_uri": "https://localhost:8080/",
          "height": 35
        },
        "outputId": "82cacf7d-4120-4946-923a-c057586e857e"
      },
      "source": [
        "tokenizer.word_index['no']"
      ],
      "execution_count": 51,
      "outputs": [
        {
          "output_type": "execute_result",
          "data": {
            "text/plain": [
              "33"
            ]
          },
          "metadata": {
            "tags": []
          },
          "execution_count": 51
        }
      ]
    },
    {
      "cell_type": "code",
      "metadata": {
        "id": "2cj7FDvTeRQH",
        "colab_type": "code",
        "colab": {}
      },
      "source": [
        "# Build the neural network\n",
        "## input encoder M\n",
        "## input encoder C\n",
        "## question encoder\n",
        "\n",
        "# Complete the network"
      ],
      "execution_count": 0,
      "outputs": []
    },
    {
      "cell_type": "code",
      "metadata": {
        "id": "R_iI6ebYe-Uo",
        "colab_type": "code",
        "colab": {}
      },
      "source": [
        "from keras.models import Sequential,Model\n",
        "from keras.layers.embeddings import Embedding\n",
        "from keras.layers import Input,Activation,Dense,Permute,Dropout,add,dot,concatenate,LSTM"
      ],
      "execution_count": 0,
      "outputs": []
    },
    {
      "cell_type": "code",
      "metadata": {
        "id": "KrNxmTntfR3X",
        "colab_type": "code",
        "colab": {}
      },
      "source": [
        "# placeholder shape = (max_story_len,batch_size)\n",
        "input_sequence = Input((max_story_len,))\n",
        "question = Input((max_question_len,))"
      ],
      "execution_count": 0,
      "outputs": []
    },
    {
      "cell_type": "code",
      "metadata": {
        "id": "9yBI4J1TfoqT",
        "colab_type": "code",
        "colab": {}
      },
      "source": [
        "# vocab_len\n",
        "vocab_size = len(vocab)+1"
      ],
      "execution_count": 0,
      "outputs": []
    },
    {
      "cell_type": "code",
      "metadata": {
        "id": "6ydS5uHwfs2X",
        "colab_type": "code",
        "colab": {}
      },
      "source": [
        "#Input encoder M\n",
        "input_encoder_m = Sequential()\n",
        "input_encoder_m.add(Embedding(input_dim= vocab_size,output_dim = 64))\n",
        "input_encoder_m.add(Dropout(0.3))"
      ],
      "execution_count": 0,
      "outputs": []
    },
    {
      "cell_type": "code",
      "metadata": {
        "id": "pHTXAvNLgBpA",
        "colab_type": "code",
        "colab": {}
      },
      "source": [
        "input_encoder_c = Sequential()\n",
        "input_encoder_c.add(Embedding(input_dim= vocab_size,output_dim = max_question_len))\n",
        "input_encoder_c.add(Dropout(0.3))"
      ],
      "execution_count": 0,
      "outputs": []
    },
    {
      "cell_type": "code",
      "metadata": {
        "id": "nLJvfxnhgMK8",
        "colab_type": "code",
        "colab": {}
      },
      "source": [
        "question_encoder = Sequential()\n",
        "question_encoder.add(Embedding(input_dim= vocab_size,output_dim = 64,input_length = max_question_len))\n",
        "question_encoder.add(Dropout(0.3))\n",
        "\n",
        "#(samples,query_maxlen,embedding_dim)"
      ],
      "execution_count": 0,
      "outputs": []
    },
    {
      "cell_type": "code",
      "metadata": {
        "id": "Iz8A21j0ghNw",
        "colab_type": "code",
        "colab": {}
      },
      "source": [
        "# Encoded <--- ENCODER(input)\n",
        "input_encoded_m = input_encoder_m(input_sequence)\n",
        "input_encoded_c = input_encoder_c(input_sequence)\n",
        "question_encoded = question_encoder(question)"
      ],
      "execution_count": 0,
      "outputs": []
    },
    {
      "cell_type": "code",
      "metadata": {
        "id": "P6mRQbEnhJ9g",
        "colab_type": "code",
        "colab": {}
      },
      "source": [
        "match = dot([input_encoded_m,question_encoded],axes = (2,2))\n",
        "match = Activation('softmax')(match)"
      ],
      "execution_count": 0,
      "outputs": []
    },
    {
      "cell_type": "code",
      "metadata": {
        "id": "Ljtlt2M5hVG0",
        "colab_type": "code",
        "colab": {}
      },
      "source": [
        "response = add([match,input_encoded_c])\n",
        "response = Permute((2,1))(response)"
      ],
      "execution_count": 0,
      "outputs": []
    },
    {
      "cell_type": "code",
      "metadata": {
        "id": "eINx7t9YhfTB",
        "colab_type": "code",
        "colab": {}
      },
      "source": [
        "answer = concatenate([response,question_encoded])"
      ],
      "execution_count": 0,
      "outputs": []
    },
    {
      "cell_type": "code",
      "metadata": {
        "id": "r_Szki_LitKo",
        "colab_type": "code",
        "colab": {
          "base_uri": "https://localhost:8080/",
          "height": 35
        },
        "outputId": "c54ed0da-f6e3-42bc-cd0c-24a27ae2d0dc"
      },
      "source": [
        "answer"
      ],
      "execution_count": 82,
      "outputs": [
        {
          "output_type": "execute_result",
          "data": {
            "text/plain": [
              "<tf.Tensor 'concatenate_1/concat:0' shape=(?, 6, 220) dtype=float32>"
            ]
          },
          "metadata": {
            "tags": []
          },
          "execution_count": 82
        }
      ]
    },
    {
      "cell_type": "code",
      "metadata": {
        "id": "v-iF5i76iuDY",
        "colab_type": "code",
        "colab": {}
      },
      "source": [
        "answer = LSTM(32)(answer)\n",
        "answer = Dropout(0.5)(answer)\n",
        "answer = Dense(vocab_size)(answer)\n",
        "answer = Activation('softmax')(answer)\n",
        "\n",
        "model = Model([input_sequence,question],answer)"
      ],
      "execution_count": 0,
      "outputs": []
    },
    {
      "cell_type": "code",
      "metadata": {
        "id": "ICVtdk2UjD4K",
        "colab_type": "code",
        "colab": {}
      },
      "source": [
        "model.compile(optimizer = 'rmsprop',loss = 'categorical_crossentropy',metrics = ['accuracy'])"
      ],
      "execution_count": 0,
      "outputs": []
    },
    {
      "cell_type": "code",
      "metadata": {
        "id": "ZqParr8_jKr9",
        "colab_type": "code",
        "colab": {
          "base_uri": "https://localhost:8080/",
          "height": 707
        },
        "outputId": "66bf317b-e3e7-4aab-e811-097710a0986b"
      },
      "source": [
        "model.summary()"
      ],
      "execution_count": 87,
      "outputs": [
        {
          "output_type": "stream",
          "text": [
            "__________________________________________________________________________________________________\n",
            "Layer (type)                    Output Shape         Param #     Connected to                     \n",
            "==================================================================================================\n",
            "input_5 (InputLayer)            (None, 156)          0                                            \n",
            "__________________________________________________________________________________________________\n",
            "input_6 (InputLayer)            (None, 6)            0                                            \n",
            "__________________________________________________________________________________________________\n",
            "sequential_7 (Sequential)       multiple             2432        input_5[0][0]                    \n",
            "__________________________________________________________________________________________________\n",
            "sequential_9 (Sequential)       (None, 6, 64)        2432        input_6[0][0]                    \n",
            "__________________________________________________________________________________________________\n",
            "dot_3 (Dot)                     (None, 156, 6)       0           sequential_7[2][0]               \n",
            "                                                                 sequential_9[1][0]               \n",
            "__________________________________________________________________________________________________\n",
            "activation_3 (Activation)       (None, 156, 6)       0           dot_3[0][0]                      \n",
            "__________________________________________________________________________________________________\n",
            "sequential_8 (Sequential)       multiple             228         input_5[0][0]                    \n",
            "__________________________________________________________________________________________________\n",
            "add_3 (Add)                     (None, 156, 6)       0           activation_3[0][0]               \n",
            "                                                                 sequential_8[2][0]               \n",
            "__________________________________________________________________________________________________\n",
            "permute_1 (Permute)             (None, 6, 156)       0           add_3[0][0]                      \n",
            "__________________________________________________________________________________________________\n",
            "concatenate_1 (Concatenate)     (None, 6, 220)       0           permute_1[0][0]                  \n",
            "                                                                 sequential_9[1][0]               \n",
            "__________________________________________________________________________________________________\n",
            "lstm_1 (LSTM)                   (None, 32)           32384       concatenate_1[0][0]              \n",
            "__________________________________________________________________________________________________\n",
            "dropout_9 (Dropout)             (None, 32)           0           lstm_1[0][0]                     \n",
            "__________________________________________________________________________________________________\n",
            "dense_1 (Dense)                 (None, 38)           1254        dropout_9[0][0]                  \n",
            "__________________________________________________________________________________________________\n",
            "activation_4 (Activation)       (None, 38)           0           dense_1[0][0]                    \n",
            "==================================================================================================\n",
            "Total params: 38,730\n",
            "Trainable params: 38,730\n",
            "Non-trainable params: 0\n",
            "__________________________________________________________________________________________________\n"
          ],
          "name": "stdout"
        }
      ]
    },
    {
      "cell_type": "code",
      "metadata": {
        "id": "6b4_JbWSjTST",
        "colab_type": "code",
        "colab": {
          "base_uri": "https://localhost:8080/",
          "height": 4524
        },
        "outputId": "0e5f1366-3a97-426a-fc7e-a15ad17474e9"
      },
      "source": [
        "history = model.fit([inputs_train,queries_train],answers_train,batch_size = 32,epochs = 120,validation_data = ([inputs_test,queries_test],answers_test))"
      ],
      "execution_count": 89,
      "outputs": [
        {
          "output_type": "stream",
          "text": [
            "WARNING:tensorflow:From /usr/local/lib/python3.6/dist-packages/tensorflow/python/ops/math_ops.py:3066: to_int32 (from tensorflow.python.ops.math_ops) is deprecated and will be removed in a future version.\n",
            "Instructions for updating:\n",
            "Use tf.cast instead.\n",
            "WARNING:tensorflow:From /usr/local/lib/python3.6/dist-packages/tensorflow/python/ops/math_grad.py:102: div (from tensorflow.python.ops.math_ops) is deprecated and will be removed in a future version.\n",
            "Instructions for updating:\n",
            "Deprecated in favor of operator or tf.math.divide.\n",
            "Train on 10000 samples, validate on 1000 samples\n",
            "Epoch 1/120\n",
            "10000/10000 [==============================] - 8s 782us/step - loss: 0.8897 - acc: 0.4975 - val_loss: 0.6950 - val_acc: 0.4970\n",
            "Epoch 2/120\n",
            "10000/10000 [==============================] - 5s 506us/step - loss: 0.7070 - acc: 0.4868 - val_loss: 0.6936 - val_acc: 0.5030\n",
            "Epoch 3/120\n",
            "10000/10000 [==============================] - 4s 433us/step - loss: 0.6966 - acc: 0.4927 - val_loss: 0.6932 - val_acc: 0.5030\n",
            "Epoch 4/120\n",
            "10000/10000 [==============================] - 4s 434us/step - loss: 0.6943 - acc: 0.5031 - val_loss: 0.6936 - val_acc: 0.5030\n",
            "Epoch 5/120\n",
            "10000/10000 [==============================] - 4s 434us/step - loss: 0.6945 - acc: 0.5039 - val_loss: 0.6953 - val_acc: 0.4970\n",
            "Epoch 6/120\n",
            "10000/10000 [==============================] - 5s 465us/step - loss: 0.6946 - acc: 0.5024 - val_loss: 0.6934 - val_acc: 0.4970\n",
            "Epoch 7/120\n",
            "10000/10000 [==============================] - 5s 496us/step - loss: 0.6941 - acc: 0.4993 - val_loss: 0.6932 - val_acc: 0.5030\n",
            "Epoch 8/120\n",
            "10000/10000 [==============================] - 5s 468us/step - loss: 0.6947 - acc: 0.4965 - val_loss: 0.6936 - val_acc: 0.4970\n",
            "Epoch 9/120\n",
            "10000/10000 [==============================] - 4s 434us/step - loss: 0.6945 - acc: 0.4947 - val_loss: 0.6935 - val_acc: 0.4970\n",
            "Epoch 10/120\n",
            "10000/10000 [==============================] - 4s 432us/step - loss: 0.6935 - acc: 0.5041 - val_loss: 0.6925 - val_acc: 0.5170\n",
            "Epoch 11/120\n",
            "10000/10000 [==============================] - 4s 433us/step - loss: 0.6883 - acc: 0.5343 - val_loss: 0.6867 - val_acc: 0.5140\n",
            "Epoch 12/120\n",
            "10000/10000 [==============================] - 4s 433us/step - loss: 0.6703 - acc: 0.5821 - val_loss: 0.6541 - val_acc: 0.6260\n",
            "Epoch 13/120\n",
            "10000/10000 [==============================] - 4s 434us/step - loss: 0.6546 - acc: 0.6253 - val_loss: 0.6468 - val_acc: 0.6410\n",
            "Epoch 14/120\n",
            "10000/10000 [==============================] - 4s 437us/step - loss: 0.6463 - acc: 0.6303 - val_loss: 0.6302 - val_acc: 0.6530\n",
            "Epoch 15/120\n",
            "10000/10000 [==============================] - 4s 433us/step - loss: 0.6335 - acc: 0.6468 - val_loss: 0.6163 - val_acc: 0.6580\n",
            "Epoch 16/120\n",
            "10000/10000 [==============================] - 4s 435us/step - loss: 0.6138 - acc: 0.6688 - val_loss: 0.5942 - val_acc: 0.6920\n",
            "Epoch 17/120\n",
            "10000/10000 [==============================] - 4s 433us/step - loss: 0.5869 - acc: 0.6900 - val_loss: 0.5637 - val_acc: 0.7030\n",
            "Epoch 18/120\n",
            "10000/10000 [==============================] - 4s 435us/step - loss: 0.5667 - acc: 0.7078 - val_loss: 0.5518 - val_acc: 0.7050\n",
            "Epoch 19/120\n",
            "10000/10000 [==============================] - 4s 434us/step - loss: 0.5507 - acc: 0.7138 - val_loss: 0.5271 - val_acc: 0.7300\n",
            "Epoch 20/120\n",
            "10000/10000 [==============================] - 4s 434us/step - loss: 0.5380 - acc: 0.7217 - val_loss: 0.5684 - val_acc: 0.6960\n",
            "Epoch 21/120\n",
            "10000/10000 [==============================] - 4s 435us/step - loss: 0.5383 - acc: 0.7228 - val_loss: 0.5365 - val_acc: 0.7260\n",
            "Epoch 22/120\n",
            "10000/10000 [==============================] - 4s 434us/step - loss: 0.5290 - acc: 0.7282 - val_loss: 0.5225 - val_acc: 0.7220\n",
            "Epoch 23/120\n",
            "10000/10000 [==============================] - 4s 434us/step - loss: 0.5219 - acc: 0.7371 - val_loss: 0.5215 - val_acc: 0.7250\n",
            "Epoch 24/120\n",
            "10000/10000 [==============================] - 4s 448us/step - loss: 0.5157 - acc: 0.7372 - val_loss: 0.5295 - val_acc: 0.7340\n",
            "Epoch 25/120\n",
            "10000/10000 [==============================] - 5s 497us/step - loss: 0.5112 - acc: 0.7425 - val_loss: 0.5177 - val_acc: 0.7320\n",
            "Epoch 26/120\n",
            "10000/10000 [==============================] - 5s 484us/step - loss: 0.5055 - acc: 0.7466 - val_loss: 0.5260 - val_acc: 0.7170\n",
            "Epoch 27/120\n",
            "10000/10000 [==============================] - 4s 434us/step - loss: 0.4907 - acc: 0.7622 - val_loss: 0.5106 - val_acc: 0.7560\n",
            "Epoch 28/120\n",
            "10000/10000 [==============================] - 4s 435us/step - loss: 0.4729 - acc: 0.7829 - val_loss: 0.4857 - val_acc: 0.7830\n",
            "Epoch 29/120\n",
            "10000/10000 [==============================] - 4s 433us/step - loss: 0.4503 - acc: 0.7964 - val_loss: 0.4770 - val_acc: 0.7850\n",
            "Epoch 30/120\n",
            "10000/10000 [==============================] - 4s 436us/step - loss: 0.4369 - acc: 0.8089 - val_loss: 0.4501 - val_acc: 0.7940\n",
            "Epoch 31/120\n",
            "10000/10000 [==============================] - 4s 433us/step - loss: 0.4158 - acc: 0.8233 - val_loss: 0.4360 - val_acc: 0.8060\n",
            "Epoch 32/120\n",
            "10000/10000 [==============================] - 5s 509us/step - loss: 0.4021 - acc: 0.8276 - val_loss: 0.4242 - val_acc: 0.8170\n",
            "Epoch 33/120\n",
            "10000/10000 [==============================] - 5s 513us/step - loss: 0.3964 - acc: 0.8331 - val_loss: 0.4161 - val_acc: 0.8210\n",
            "Epoch 34/120\n",
            "10000/10000 [==============================] - 4s 438us/step - loss: 0.3889 - acc: 0.8376 - val_loss: 0.4101 - val_acc: 0.8190\n",
            "Epoch 35/120\n",
            "10000/10000 [==============================] - 4s 434us/step - loss: 0.3857 - acc: 0.8354 - val_loss: 0.4167 - val_acc: 0.8210\n",
            "Epoch 36/120\n",
            "10000/10000 [==============================] - 4s 433us/step - loss: 0.3779 - acc: 0.8397 - val_loss: 0.4086 - val_acc: 0.8130\n",
            "Epoch 37/120\n",
            "10000/10000 [==============================] - 4s 434us/step - loss: 0.3730 - acc: 0.8441 - val_loss: 0.4303 - val_acc: 0.8160\n",
            "Epoch 38/120\n",
            "10000/10000 [==============================] - 4s 432us/step - loss: 0.3707 - acc: 0.8440 - val_loss: 0.4095 - val_acc: 0.8150\n",
            "Epoch 39/120\n",
            "10000/10000 [==============================] - 4s 433us/step - loss: 0.3673 - acc: 0.8450 - val_loss: 0.4027 - val_acc: 0.8280\n",
            "Epoch 40/120\n",
            "10000/10000 [==============================] - 4s 435us/step - loss: 0.3667 - acc: 0.8474 - val_loss: 0.4010 - val_acc: 0.8160\n",
            "Epoch 41/120\n",
            "10000/10000 [==============================] - 4s 433us/step - loss: 0.3638 - acc: 0.8455 - val_loss: 0.4168 - val_acc: 0.8200\n",
            "Epoch 42/120\n",
            "10000/10000 [==============================] - 5s 455us/step - loss: 0.3539 - acc: 0.8488 - val_loss: 0.4019 - val_acc: 0.8290\n",
            "Epoch 43/120\n",
            "10000/10000 [==============================] - 5s 495us/step - loss: 0.3531 - acc: 0.8530 - val_loss: 0.4036 - val_acc: 0.8170\n",
            "Epoch 44/120\n",
            "10000/10000 [==============================] - 5s 477us/step - loss: 0.3530 - acc: 0.8476 - val_loss: 0.4097 - val_acc: 0.8180\n",
            "Epoch 45/120\n",
            "10000/10000 [==============================] - 4s 432us/step - loss: 0.3531 - acc: 0.8518 - val_loss: 0.4000 - val_acc: 0.8260\n",
            "Epoch 46/120\n",
            "10000/10000 [==============================] - 4s 431us/step - loss: 0.3477 - acc: 0.8542 - val_loss: 0.4040 - val_acc: 0.8160\n",
            "Epoch 47/120\n",
            "10000/10000 [==============================] - 4s 432us/step - loss: 0.3430 - acc: 0.8506 - val_loss: 0.4039 - val_acc: 0.8260\n",
            "Epoch 48/120\n",
            "10000/10000 [==============================] - 4s 433us/step - loss: 0.3421 - acc: 0.8551 - val_loss: 0.4044 - val_acc: 0.8260\n",
            "Epoch 49/120\n",
            "10000/10000 [==============================] - 4s 433us/step - loss: 0.3433 - acc: 0.8562 - val_loss: 0.3955 - val_acc: 0.8290\n",
            "Epoch 50/120\n",
            "10000/10000 [==============================] - 4s 432us/step - loss: 0.3352 - acc: 0.8526 - val_loss: 0.3954 - val_acc: 0.8290\n",
            "Epoch 51/120\n",
            "10000/10000 [==============================] - 4s 433us/step - loss: 0.3323 - acc: 0.8592 - val_loss: 0.3969 - val_acc: 0.8270\n",
            "Epoch 52/120\n",
            "10000/10000 [==============================] - 4s 432us/step - loss: 0.3276 - acc: 0.8597 - val_loss: 0.3972 - val_acc: 0.8290\n",
            "Epoch 53/120\n",
            "10000/10000 [==============================] - 4s 432us/step - loss: 0.3290 - acc: 0.8615 - val_loss: 0.4001 - val_acc: 0.8290\n",
            "Epoch 54/120\n",
            "10000/10000 [==============================] - 4s 435us/step - loss: 0.3266 - acc: 0.8644 - val_loss: 0.4026 - val_acc: 0.8180\n",
            "Epoch 55/120\n",
            "10000/10000 [==============================] - 4s 434us/step - loss: 0.3199 - acc: 0.8661 - val_loss: 0.4054 - val_acc: 0.8270\n",
            "Epoch 56/120\n",
            "10000/10000 [==============================] - 4s 434us/step - loss: 0.3232 - acc: 0.8627 - val_loss: 0.3903 - val_acc: 0.8270\n",
            "Epoch 57/120\n",
            "10000/10000 [==============================] - 4s 433us/step - loss: 0.3176 - acc: 0.8635 - val_loss: 0.3924 - val_acc: 0.8300\n",
            "Epoch 58/120\n",
            "10000/10000 [==============================] - 4s 432us/step - loss: 0.3174 - acc: 0.8645 - val_loss: 0.3999 - val_acc: 0.8300\n",
            "Epoch 59/120\n",
            "10000/10000 [==============================] - 4s 433us/step - loss: 0.3160 - acc: 0.8674 - val_loss: 0.3970 - val_acc: 0.8310\n",
            "Epoch 60/120\n",
            "10000/10000 [==============================] - 4s 437us/step - loss: 0.3210 - acc: 0.8618 - val_loss: 0.3866 - val_acc: 0.8240\n",
            "Epoch 61/120\n",
            "10000/10000 [==============================] - 5s 498us/step - loss: 0.3141 - acc: 0.8673 - val_loss: 0.4041 - val_acc: 0.8220\n",
            "Epoch 62/120\n",
            "10000/10000 [==============================] - 5s 491us/step - loss: 0.3095 - acc: 0.8686 - val_loss: 0.3886 - val_acc: 0.8260\n",
            "Epoch 63/120\n",
            "10000/10000 [==============================] - 4s 434us/step - loss: 0.3072 - acc: 0.8713 - val_loss: 0.3977 - val_acc: 0.8330\n",
            "Epoch 64/120\n",
            "10000/10000 [==============================] - 4s 432us/step - loss: 0.3046 - acc: 0.8727 - val_loss: 0.4000 - val_acc: 0.8290\n",
            "Epoch 65/120\n",
            "10000/10000 [==============================] - 4s 431us/step - loss: 0.3061 - acc: 0.8686 - val_loss: 0.4043 - val_acc: 0.8200\n",
            "Epoch 66/120\n",
            "10000/10000 [==============================] - 4s 432us/step - loss: 0.3057 - acc: 0.8706 - val_loss: 0.3972 - val_acc: 0.8250\n",
            "Epoch 67/120\n",
            "10000/10000 [==============================] - 4s 432us/step - loss: 0.3021 - acc: 0.8732 - val_loss: 0.4009 - val_acc: 0.8270\n",
            "Epoch 68/120\n",
            "10000/10000 [==============================] - 4s 432us/step - loss: 0.2959 - acc: 0.8757 - val_loss: 0.4225 - val_acc: 0.8180\n",
            "Epoch 69/120\n",
            "10000/10000 [==============================] - 4s 433us/step - loss: 0.3000 - acc: 0.8721 - val_loss: 0.4249 - val_acc: 0.8260\n",
            "Epoch 70/120\n",
            "10000/10000 [==============================] - 5s 450us/step - loss: 0.2985 - acc: 0.8720 - val_loss: 0.4022 - val_acc: 0.8350\n",
            "Epoch 71/120\n",
            "10000/10000 [==============================] - 5s 482us/step - loss: 0.2978 - acc: 0.8726 - val_loss: 0.3947 - val_acc: 0.8320\n",
            "Epoch 72/120\n",
            "10000/10000 [==============================] - 4s 433us/step - loss: 0.2968 - acc: 0.8761 - val_loss: 0.4012 - val_acc: 0.8330\n",
            "Epoch 73/120\n",
            "10000/10000 [==============================] - 4s 432us/step - loss: 0.2962 - acc: 0.8732 - val_loss: 0.4259 - val_acc: 0.8290\n",
            "Epoch 74/120\n",
            "10000/10000 [==============================] - 4s 432us/step - loss: 0.2879 - acc: 0.8790 - val_loss: 0.4342 - val_acc: 0.8290\n",
            "Epoch 75/120\n",
            "10000/10000 [==============================] - 4s 435us/step - loss: 0.2890 - acc: 0.8748 - val_loss: 0.4460 - val_acc: 0.8180\n",
            "Epoch 76/120\n",
            "10000/10000 [==============================] - 4s 431us/step - loss: 0.2914 - acc: 0.8767 - val_loss: 0.4153 - val_acc: 0.8260\n",
            "Epoch 77/120\n",
            "10000/10000 [==============================] - 4s 432us/step - loss: 0.2869 - acc: 0.8755 - val_loss: 0.4261 - val_acc: 0.8210\n",
            "Epoch 78/120\n",
            "10000/10000 [==============================] - 4s 431us/step - loss: 0.2879 - acc: 0.8776 - val_loss: 0.4430 - val_acc: 0.8230\n",
            "Epoch 79/120\n",
            "10000/10000 [==============================] - 5s 489us/step - loss: 0.2899 - acc: 0.8773 - val_loss: 0.4359 - val_acc: 0.8160\n",
            "Epoch 80/120\n",
            "10000/10000 [==============================] - 5s 496us/step - loss: 0.2843 - acc: 0.8815 - val_loss: 0.4391 - val_acc: 0.8210\n",
            "Epoch 81/120\n",
            "10000/10000 [==============================] - 4s 440us/step - loss: 0.2882 - acc: 0.8792 - val_loss: 0.4585 - val_acc: 0.8180\n",
            "Epoch 82/120\n",
            "10000/10000 [==============================] - 4s 434us/step - loss: 0.2807 - acc: 0.8781 - val_loss: 0.4626 - val_acc: 0.8260\n",
            "Epoch 83/120\n",
            "10000/10000 [==============================] - 4s 430us/step - loss: 0.2783 - acc: 0.8850 - val_loss: 0.4426 - val_acc: 0.8250\n",
            "Epoch 84/120\n",
            "10000/10000 [==============================] - 4s 433us/step - loss: 0.2829 - acc: 0.8813 - val_loss: 0.4378 - val_acc: 0.8240\n",
            "Epoch 85/120\n",
            "10000/10000 [==============================] - 4s 429us/step - loss: 0.2789 - acc: 0.8829 - val_loss: 0.4391 - val_acc: 0.8290\n",
            "Epoch 86/120\n",
            "10000/10000 [==============================] - 4s 430us/step - loss: 0.2792 - acc: 0.8835 - val_loss: 0.4419 - val_acc: 0.8230\n",
            "Epoch 87/120\n",
            "10000/10000 [==============================] - 4s 436us/step - loss: 0.2787 - acc: 0.8840 - val_loss: 0.4408 - val_acc: 0.8260\n",
            "Epoch 88/120\n",
            "10000/10000 [==============================] - 4s 433us/step - loss: 0.2705 - acc: 0.8858 - val_loss: 0.4760 - val_acc: 0.8280\n",
            "Epoch 89/120\n",
            "10000/10000 [==============================] - 4s 433us/step - loss: 0.2717 - acc: 0.8883 - val_loss: 0.4412 - val_acc: 0.8270\n",
            "Epoch 90/120\n",
            "10000/10000 [==============================] - 4s 432us/step - loss: 0.2682 - acc: 0.8854 - val_loss: 0.4653 - val_acc: 0.8210\n",
            "Epoch 91/120\n",
            "10000/10000 [==============================] - 4s 432us/step - loss: 0.2710 - acc: 0.8868 - val_loss: 0.4427 - val_acc: 0.8250\n",
            "Epoch 92/120\n",
            "10000/10000 [==============================] - 4s 430us/step - loss: 0.2719 - acc: 0.8839 - val_loss: 0.4355 - val_acc: 0.8230\n",
            "Epoch 93/120\n",
            "10000/10000 [==============================] - 4s 431us/step - loss: 0.2707 - acc: 0.8830 - val_loss: 0.4353 - val_acc: 0.8250\n",
            "Epoch 94/120\n",
            "10000/10000 [==============================] - 4s 434us/step - loss: 0.2676 - acc: 0.8886 - val_loss: 0.4692 - val_acc: 0.8170\n",
            "Epoch 95/120\n",
            "10000/10000 [==============================] - 4s 433us/step - loss: 0.2680 - acc: 0.8859 - val_loss: 0.4388 - val_acc: 0.8260\n",
            "Epoch 96/120\n",
            "10000/10000 [==============================] - 4s 434us/step - loss: 0.2618 - acc: 0.8919 - val_loss: 0.4565 - val_acc: 0.8250\n",
            "Epoch 97/120\n",
            "10000/10000 [==============================] - 5s 470us/step - loss: 0.2628 - acc: 0.8924 - val_loss: 0.4443 - val_acc: 0.8230\n",
            "Epoch 98/120\n",
            "10000/10000 [==============================] - 5s 498us/step - loss: 0.2610 - acc: 0.8904 - val_loss: 0.4803 - val_acc: 0.8190\n",
            "Epoch 99/120\n",
            "10000/10000 [==============================] - 5s 459us/step - loss: 0.2594 - acc: 0.8895 - val_loss: 0.4561 - val_acc: 0.8260\n",
            "Epoch 100/120\n",
            "10000/10000 [==============================] - 4s 431us/step - loss: 0.2585 - acc: 0.8906 - val_loss: 0.4485 - val_acc: 0.8230\n",
            "Epoch 101/120\n",
            "10000/10000 [==============================] - 4s 435us/step - loss: 0.2591 - acc: 0.8936 - val_loss: 0.4477 - val_acc: 0.8280\n",
            "Epoch 102/120\n",
            "10000/10000 [==============================] - 5s 501us/step - loss: 0.2556 - acc: 0.8932 - val_loss: 0.4904 - val_acc: 0.8170\n",
            "Epoch 103/120\n",
            "10000/10000 [==============================] - 5s 511us/step - loss: 0.2552 - acc: 0.8938 - val_loss: 0.4705 - val_acc: 0.8170\n",
            "Epoch 104/120\n",
            "10000/10000 [==============================] - 4s 441us/step - loss: 0.2552 - acc: 0.8921 - val_loss: 0.4770 - val_acc: 0.8270\n",
            "Epoch 105/120\n",
            "10000/10000 [==============================] - 4s 433us/step - loss: 0.2542 - acc: 0.8957 - val_loss: 0.4676 - val_acc: 0.8290\n",
            "Epoch 106/120\n",
            "10000/10000 [==============================] - 4s 430us/step - loss: 0.2538 - acc: 0.8956 - val_loss: 0.5216 - val_acc: 0.8170\n",
            "Epoch 107/120\n",
            "10000/10000 [==============================] - 4s 432us/step - loss: 0.2503 - acc: 0.8929 - val_loss: 0.4668 - val_acc: 0.8200\n",
            "Epoch 108/120\n",
            "10000/10000 [==============================] - 4s 435us/step - loss: 0.2465 - acc: 0.8948 - val_loss: 0.4799 - val_acc: 0.8190\n",
            "Epoch 109/120\n",
            "10000/10000 [==============================] - 4s 432us/step - loss: 0.2493 - acc: 0.8970 - val_loss: 0.4672 - val_acc: 0.8270\n",
            "Epoch 110/120\n",
            "10000/10000 [==============================] - 4s 434us/step - loss: 0.2525 - acc: 0.8937 - val_loss: 0.4977 - val_acc: 0.8120\n",
            "Epoch 111/120\n",
            "10000/10000 [==============================] - 4s 431us/step - loss: 0.2488 - acc: 0.8949 - val_loss: 0.4705 - val_acc: 0.8190\n",
            "Epoch 112/120\n",
            "10000/10000 [==============================] - 4s 433us/step - loss: 0.2536 - acc: 0.8928 - val_loss: 0.4741 - val_acc: 0.8270\n",
            "Epoch 113/120\n",
            "10000/10000 [==============================] - 4s 434us/step - loss: 0.2519 - acc: 0.8954 - val_loss: 0.4773 - val_acc: 0.8250\n",
            "Epoch 114/120\n",
            "10000/10000 [==============================] - 4s 432us/step - loss: 0.2459 - acc: 0.8954 - val_loss: 0.4726 - val_acc: 0.8200\n",
            "Epoch 115/120\n",
            "10000/10000 [==============================] - 5s 477us/step - loss: 0.2457 - acc: 0.8997 - val_loss: 0.4763 - val_acc: 0.8280\n",
            "Epoch 116/120\n",
            "10000/10000 [==============================] - 5s 495us/step - loss: 0.2409 - acc: 0.9007 - val_loss: 0.4998 - val_acc: 0.8080\n",
            "Epoch 117/120\n",
            "10000/10000 [==============================] - 5s 455us/step - loss: 0.2370 - acc: 0.8995 - val_loss: 0.5301 - val_acc: 0.8070\n",
            "Epoch 118/120\n",
            "10000/10000 [==============================] - 4s 434us/step - loss: 0.2448 - acc: 0.8966 - val_loss: 0.4841 - val_acc: 0.8140\n",
            "Epoch 119/120\n",
            "10000/10000 [==============================] - 4s 434us/step - loss: 0.2458 - acc: 0.8987 - val_loss: 0.5131 - val_acc: 0.8210\n",
            "Epoch 120/120\n",
            "10000/10000 [==============================] - 4s 433us/step - loss: 0.2446 - acc: 0.9007 - val_loss: 0.4945 - val_acc: 0.8230\n"
          ],
          "name": "stdout"
        }
      ]
    },
    {
      "cell_type": "code",
      "metadata": {
        "id": "mHTdHe9Bj0gp",
        "colab_type": "code",
        "colab": {
          "base_uri": "https://localhost:8080/",
          "height": 313
        },
        "outputId": "c861a797-dad3-4570-ff3d-0a99562b098a"
      },
      "source": [
        "import matplotlib.pyplot as plt\n",
        "%matplotlib inline\n",
        "print(history.history.keys())\n",
        "plt.plot(history.history['acc'])\n",
        "plt.plot(history.history['val_acc'])\n",
        "plt.title('model accuracy')\n",
        "plt.ylabel('accuracy')\n",
        "plt.xlabel('epoch')\n",
        "plt.legend(['train','test'],loc = 'upper left')\n",
        "plt.show()"
      ],
      "execution_count": 90,
      "outputs": [
        {
          "output_type": "stream",
          "text": [
            "dict_keys(['val_loss', 'val_acc', 'loss', 'acc'])\n"
          ],
          "name": "stdout"
        },
        {
          "output_type": "display_data",
          "data": {
            "image/png": "[encoded data removed]",
            "text/plain": [
              "<Figure size 432x288 with 1 Axes>"
            ]
          },
          "metadata": {
            "tags": []
          }
        }
      ]
    },
    {
      "cell_type": "code",
      "metadata": {
        "id": "RzgdzEOdl6p2",
        "colab_type": "code",
        "colab": {}
      },
      "source": [
        "model.save('rnnmodel_120.h5')"
      ],
      "execution_count": 0,
      "outputs": []
    },
    {
      "cell_type": "code",
      "metadata": {
        "id": "krnRA_fQmAB2",
        "colab_type": "code",
        "colab": {}
      },
      "source": [
        "pred_results = model.predict(([inputs_test,queries_test]))"
      ],
      "execution_count": 0,
      "outputs": []
    },
    {
      "cell_type": "code",
      "metadata": {
        "id": "bKoMjCb7mSNQ",
        "colab_type": "code",
        "colab": {
          "base_uri": "https://localhost:8080/",
          "height": 35
        },
        "outputId": "74019df6-5185-4e1d-86f2-5bb70a3a2349"
      },
      "source": [
        "pred_results.shape"
      ],
      "execution_count": 93,
      "outputs": [
        {
          "output_type": "execute_result",
          "data": {
            "text/plain": [
              "(1000, 38)"
            ]
          },
          "metadata": {
            "tags": []
          },
          "execution_count": 93
        }
      ]
    },
    {
      "cell_type": "code",
      "metadata": {
        "id": "Y0rbaRLUmWtP",
        "colab_type": "code",
        "colab": {
          "base_uri": "https://localhost:8080/",
          "height": 199
        },
        "outputId": "9ad9282c-7b6f-498d-f357-b90f086df709"
      },
      "source": [
        "pred_results[0]"
      ],
      "execution_count": 94,
      "outputs": [
        {
          "output_type": "execute_result",
          "data": {
            "text/plain": [
              "array([5.9477611e-16, 7.1023988e-16, 7.7979891e-16, 7.1663005e-16,\n",
              "       5.9055513e-16, 5.5009898e-16, 6.0564920e-16, 5.8229163e-16,\n",
              "       6.0195238e-16, 7.0490362e-16, 5.5905599e-16, 5.7672303e-16,\n",
              "       6.1828529e-16, 6.5682345e-04, 6.1178643e-16, 6.0466585e-16,\n",
              "       6.1348781e-16, 7.1645779e-16, 5.9472391e-16, 6.0285553e-16,\n",
              "       6.3483118e-16, 5.1520530e-16, 6.5601564e-16, 6.7771567e-16,\n",
              "       7.1167454e-16, 6.4232171e-16, 6.3588547e-16, 5.8803738e-16,\n",
              "       5.9262231e-16, 6.3359970e-16, 5.8176325e-16, 6.3196556e-16,\n",
              "       5.9876452e-16, 9.9934322e-01, 6.7142401e-16, 6.7776215e-16,\n",
              "       6.4993039e-16, 6.2589329e-16], dtype=float32)"
            ]
          },
          "metadata": {
            "tags": []
          },
          "execution_count": 94
        }
      ]
    },
    {
      "cell_type": "code",
      "metadata": {
        "id": "Sm_UViPGmaX9",
        "colab_type": "code",
        "colab": {}
      },
      "source": [
        "val_max = np.argmax(pred_results[0])"
      ],
      "execution_count": 0,
      "outputs": []
    },
    {
      "cell_type": "code",
      "metadata": {
        "id": "guURBmZ7mkrR",
        "colab_type": "code",
        "colab": {
          "base_uri": "https://localhost:8080/",
          "height": 35
        },
        "outputId": "02509764-3b35-4719-c35b-f9dba44aac04"
      },
      "source": [
        "val_max"
      ],
      "execution_count": 96,
      "outputs": [
        {
          "output_type": "execute_result",
          "data": {
            "text/plain": [
              "33"
            ]
          },
          "metadata": {
            "tags": []
          },
          "execution_count": 96
        }
      ]
    },
    {
      "cell_type": "code",
      "metadata": {
        "id": "GgNd4KIOmmT-",
        "colab_type": "code",
        "colab": {}
      },
      "source": [
        "for key,val in tokenizer.word_index.items():\n",
        "  if val == val_max:\n",
        "    k = key"
      ],
      "execution_count": 0,
      "outputs": []
    },
    {
      "cell_type": "code",
      "metadata": {
        "id": "q8eZnpBfmsrk",
        "colab_type": "code",
        "colab": {
          "base_uri": "https://localhost:8080/",
          "height": 35
        },
        "outputId": "cf41f52f-6f07-4fc5-fb2d-d08b2f81d48b"
      },
      "source": [
        "k"
      ],
      "execution_count": 98,
      "outputs": [
        {
          "output_type": "execute_result",
          "data": {
            "text/plain": [
              "'no'"
            ]
          },
          "metadata": {
            "tags": []
          },
          "execution_count": 98
        }
      ]
    },
    {
      "cell_type": "code",
      "metadata": {
        "id": "FP3S87gWmtVk",
        "colab_type": "code",
        "colab": {
          "base_uri": "https://localhost:8080/",
          "height": 689
        },
        "outputId": "06c3cdba-0d16-4aa3-ff8b-afecae17e354"
      },
      "source": [
        "vocab"
      ],
      "execution_count": 99,
      "outputs": [
        {
          "output_type": "execute_result",
          "data": {
            "text/plain": [
              "{'.',\n",
              " '?',\n",
              " 'Daniel',\n",
              " 'Is',\n",
              " 'John',\n",
              " 'Mary',\n",
              " 'Sandra',\n",
              " 'apple',\n",
              " 'back',\n",
              " 'bathroom',\n",
              " 'bedroom',\n",
              " 'discarded',\n",
              " 'down',\n",
              " 'dropped',\n",
              " 'football',\n",
              " 'garden',\n",
              " 'got',\n",
              " 'grabbed',\n",
              " 'hallway',\n",
              " 'in',\n",
              " 'journeyed',\n",
              " 'kitchen',\n",
              " 'left',\n",
              " 'milk',\n",
              " 'moved',\n",
              " 'no',\n",
              " 'office',\n",
              " 'picked',\n",
              " 'put',\n",
              " 'the',\n",
              " 'there',\n",
              " 'to',\n",
              " 'took',\n",
              " 'travelled',\n",
              " 'up',\n",
              " 'went',\n",
              " 'yes'}"
            ]
          },
          "metadata": {
            "tags": []
          },
          "execution_count": 99
        }
      ]
    },
    {
      "cell_type": "code",
      "metadata": {
        "id": "U5C8DKuDmz39",
        "colab_type": "code",
        "colab": {
          "base_uri": "https://localhost:8080/",
          "height": 253
        },
        "outputId": "46361384-7857-406c-8138-5fba82cb293a"
      },
      "source": [
        "my_story = \"John left the kitchen . Sandra dropped the football in the garden . \"\n",
        "my_story.split()"
      ],
      "execution_count": 105,
      "outputs": [
        {
          "output_type": "execute_result",
          "data": {
            "text/plain": [
              "['John',\n",
              " 'left',\n",
              " 'the',\n",
              " 'kitchen',\n",
              " '.',\n",
              " 'Sandra',\n",
              " 'dropped',\n",
              " 'the',\n",
              " 'football',\n",
              " 'in',\n",
              " 'the',\n",
              " 'garden',\n",
              " '.']"
            ]
          },
          "metadata": {
            "tags": []
          },
          "execution_count": 105
        }
      ]
    },
    {
      "cell_type": "code",
      "metadata": {
        "id": "1ZdDAufonFN1",
        "colab_type": "code",
        "colab": {
          "base_uri": "https://localhost:8080/",
          "height": 35
        },
        "outputId": "3c782da0-7e59-441f-cb39-6c8d4879a134"
      },
      "source": [
        "my_question = \"Is the football in the garden ?\"\n",
        "my_question.split()"
      ],
      "execution_count": 106,
      "outputs": [
        {
          "output_type": "execute_result",
          "data": {
            "text/plain": [
              "['Is', 'the', 'football', 'in', 'the', 'garden', '?']"
            ]
          },
          "metadata": {
            "tags": []
          },
          "execution_count": 106
        }
      ]
    },
    {
      "cell_type": "code",
      "metadata": {
        "id": "jwQuKGWlnLUm",
        "colab_type": "code",
        "colab": {}
      },
      "source": [
        "mydata = [(my_story.split(),my_question.split(),'yes')]"
      ],
      "execution_count": 0,
      "outputs": []
    },
    {
      "cell_type": "code",
      "metadata": {
        "id": "i4voWRO9nZAX",
        "colab_type": "code",
        "colab": {}
      },
      "source": [
        "my_story,my_ques,my_ans = vectorize_stories(mydata)"
      ],
      "execution_count": 0,
      "outputs": []
    },
    {
      "cell_type": "code",
      "metadata": {
        "id": "5LorAb4xnd1H",
        "colab_type": "code",
        "colab": {}
      },
      "source": [
        "pred_result = model.predict(([my_story,my_ques]))"
      ],
      "execution_count": 0,
      "outputs": []
    },
    {
      "cell_type": "code",
      "metadata": {
        "id": "o9BCru5Un1S4",
        "colab_type": "code",
        "colab": {}
      },
      "source": [
        "val_max = np.argmax(pred_result[0])"
      ],
      "execution_count": 0,
      "outputs": []
    },
    {
      "cell_type": "code",
      "metadata": {
        "id": "go4KnV10n5uJ",
        "colab_type": "code",
        "colab": {}
      },
      "source": [
        "for key,val in tokenizer.word_index.items():\n",
        "  if val == val_max:\n",
        "    k = key"
      ],
      "execution_count": 0,
      "outputs": []
    },
    {
      "cell_type": "code",
      "metadata": {
        "id": "0C2ssTtan_vW",
        "colab_type": "code",
        "colab": {
          "base_uri": "https://localhost:8080/",
          "height": 35
        },
        "outputId": "6a5a27d0-2b21-4f90-a87a-2b57c714053f"
      },
      "source": [
        "k"
      ],
      "execution_count": 112,
      "outputs": [
        {
          "output_type": "execute_result",
          "data": {
            "text/plain": [
              "'yes'"
            ]
          },
          "metadata": {
            "tags": []
          },
          "execution_count": 112
        }
      ]
    },
    {
      "cell_type": "code",
      "metadata": {
        "id": "eZoHagCIoA2o",
        "colab_type": "code",
        "colab": {}
      },
      "source": [
        ""
      ],
      "execution_count": 0,
      "outputs": []
    }
  ]
}